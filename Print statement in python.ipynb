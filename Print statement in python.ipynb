{
 "cells": [
  {
   "cell_type": "markdown",
   "id": "6087344e-5ec6-457b-9bef-49c903abe30e",
   "metadata": {},
   "source": [
    "#USE OF PRINT STATEMENT IN PYTHON"
   ]
  },
  {
   "cell_type": "code",
   "execution_count": 2,
   "id": "ab339549-ffd6-4d59-8c1a-d3fb4cbf9442",
   "metadata": {},
   "outputs": [
    {
     "data": {
      "text/plain": [
       "30"
      ]
     },
     "execution_count": 2,
     "metadata": {},
     "output_type": "execute_result"
    }
   ],
   "source": [
    "a=20\n",
    "b=30\n",
    "a\n",
    "b"
   ]
  },
  {
   "cell_type": "code",
   "execution_count": 3,
   "id": "8ae27657-2208-4792-83f2-d31b649a81f9",
   "metadata": {},
   "outputs": [
    {
     "name": "stdout",
     "output_type": "stream",
     "text": [
      "20\n",
      "30\n"
     ]
    }
   ],
   "source": [
    "a=20\n",
    "b=30\n",
    "print(a)\n",
    "print(b)"
   ]
  },
  {
   "cell_type": "code",
   "execution_count": 4,
   "id": "6d0c6b90-5793-4fe0-ae4b-cd03580676ff",
   "metadata": {},
   "outputs": [
    {
     "name": "stdout",
     "output_type": "stream",
     "text": [
      "10\n",
      "10 20\n",
      "python\n",
      "10 20 python\n"
     ]
    }
   ],
   "source": [
    "print(10)\n",
    "print(10,20)\n",
    "print('python')\n",
    "print(10,20,'python')"
   ]
  },
  {
   "cell_type": "code",
   "execution_count": 5,
   "id": "80556291-8b28-4183-b2f4-c19dba763ab9",
   "metadata": {},
   "outputs": [
    {
     "name": "stdout",
     "output_type": "stream",
     "text": [
      "54\n"
     ]
    }
   ],
   "source": [
    "num1 = 20\n",
    "num2 = 34\n",
    "add= num1+num2\n",
    "print(add)"
   ]
  },
  {
   "cell_type": "markdown",
   "id": "a1072acc-a42b-4b49-8e65-39ba0dffea80",
   "metadata": {},
   "source": [
    "#PRINT RESULT WITH STRING"
   ]
  },
  {
   "cell_type": "code",
   "execution_count": 7,
   "id": "168f957a-7320-404e-b424-b5f7bddbd8ea",
   "metadata": {},
   "outputs": [
    {
     "name": "stdout",
     "output_type": "stream",
     "text": [
      "The addition of 10 and 30 is 40\n"
     ]
    }
   ],
   "source": [
    "num1=10\n",
    "num2=30\n",
    "add=num1+num2\n",
    "print('The addition of', num1,'and',num2,'is',add)"
   ]
  },
  {
   "cell_type": "code",
   "execution_count": 8,
   "id": "b8da3bc4-5819-4aa6-8a65-33efe5389819",
   "metadata": {},
   "outputs": [
    {
     "name": "stdout",
     "output_type": "stream",
     "text": [
      "My name is python and i am 30 years old from hyd\n"
     ]
    }
   ],
   "source": [
    "name='python'\n",
    "age=30\n",
    "city='hyd'\n",
    "print('My name is',name,'and i am',age,'years old from',city)"
   ]
  },
  {
   "cell_type": "markdown",
   "id": "77283ee9-c681-4cfb-90c1-4c6dcf184bbc",
   "metadata": {},
   "source": [
    "#PRINT FORMAT METHOD"
   ]
  },
  {
   "cell_type": "code",
   "execution_count": 10,
   "id": "aa0459bc-5eec-4003-85d9-fa074bb40eee",
   "metadata": {},
   "outputs": [
    {
     "name": "stdout",
     "output_type": "stream",
     "text": [
      "The addition of 10 and 30 is = 40\n"
     ]
    }
   ],
   "source": [
    "num1=10\n",
    "num2=30\n",
    "add=num1+num2\n",
    "print('The addition of {} and {} is = {}'.format(num1,num2,add))"
   ]
  },
  {
   "cell_type": "code",
   "execution_count": 11,
   "id": "720637f3-65bf-48d4-a755-3411638aaa2b",
   "metadata": {},
   "outputs": [
    {
     "name": "stdout",
     "output_type": "stream",
     "text": [
      "heallo my name is python,and i am 30 years old from hyd\n"
     ]
    }
   ],
   "source": [
    "print('heallo my name is {},and i am {} years old from {}'.format(name,age,city))"
   ]
  },
  {
   "cell_type": "code",
   "execution_count": 12,
   "id": "0ee4875e-aaf2-4946-be82-76ce4f09d66f",
   "metadata": {},
   "outputs": [
    {
     "name": "stdout",
     "output_type": "stream",
     "text": [
      "The average of 10, 49, and 98 is= 52.333333333333336 or 52.33\n"
     ]
    }
   ],
   "source": [
    "num1=10\n",
    "num2=49\n",
    "num3=98\n",
    "avg=(num1+num2+num3)/3\n",
    "avg1=round((num1+num2+num3)/3,2)\n",
    "print('The average of {}, {}, and {} is= {} or {}'.format(num1,num2,num3,avg,avg1))"
   ]
  },
  {
   "cell_type": "code",
   "execution_count": 13,
   "id": "33c2c234-5b79-409d-b3df-ce840aa83339",
   "metadata": {},
   "outputs": [
    {
     "data": {
      "text/plain": [
       "52.33"
      ]
     },
     "execution_count": 13,
     "metadata": {},
     "output_type": "execute_result"
    }
   ],
   "source": [
    "round(avg,2)"
   ]
  },
  {
   "cell_type": "markdown",
   "id": "efce671e-321b-4917-944d-1d21efd03920",
   "metadata": {},
   "source": [
    "#MORE SHORT FORMAT METHOD (F STRING METHOD)\n",
    "\n",
    "* variable should be in curly braces\n",
    "* and write everything inside quots''\n",
    "* at starting simply add F"
   ]
  },
  {
   "cell_type": "code",
   "execution_count": 15,
   "id": "bdd70abd-49de-46e4-8212-65195fc98484",
   "metadata": {},
   "outputs": [
    {
     "name": "stdout",
     "output_type": "stream",
     "text": [
      "The addition of 20 and 46 is= 66\n"
     ]
    }
   ],
   "source": [
    "num1=20\n",
    "num2=46\n",
    "add=num1+num2\n",
    "print(f'The addition of {num1} and {num2} is= {add}')"
   ]
  },
  {
   "cell_type": "code",
   "execution_count": 16,
   "id": "dd1f4af9-477d-4bf8-8ac1-46f5d26d6e73",
   "metadata": {},
   "outputs": [
    {
     "name": "stdout",
     "output_type": "stream",
     "text": [
      "hello my name is python, and i am 20 years old from hyd.\n"
     ]
    }
   ],
   "source": [
    "name='python'\n",
    "age=20\n",
    "city='hyd'\n",
    "print(f'hello my name is {name}, and i am {age} years old from {city}.')"
   ]
  },
  {
   "cell_type": "code",
   "execution_count": 17,
   "id": "5bf4ba1d-11cb-4b90-a7a6-17bb69155457",
   "metadata": {},
   "outputs": [
    {
     "name": "stdout",
     "output_type": "stream",
     "text": [
      "The average of 20, 33 and 44 is = 32.33\n"
     ]
    }
   ],
   "source": [
    "num1=20\n",
    "num2=33\n",
    "num3=44\n",
    "avg=round((num1+num2+num3)/3,2)\n",
    "print(f'The average of {num1}, {num2} and {num3} is = {avg}')"
   ]
  },
  {
   "cell_type": "code",
   "execution_count": 18,
   "id": "89c9d325-4009-4a6b-aeb5-7656af4841cc",
   "metadata": {},
   "outputs": [
    {
     "name": "stdout",
     "output_type": "stream",
     "text": [
      "The addition of 332 and 334 is= 666\n",
      "The addition of 332 and 334 is= 666\n",
      "The addition of 332 and 334 is= 666\n"
     ]
    }
   ],
   "source": [
    "#LETS COMBINE ALL \n",
    "num1=332\n",
    "num2=334\n",
    "add = num1+num2\n",
    "print('The addition of', num1, 'and', num2, 'is=',add)\n",
    "print('The addition of {} and {} is= {}'.format(num1,num2,add)) \n",
    "print(f'The addition of {num1} and {num2} is= {add}')"
   ]
  },
  {
   "cell_type": "markdown",
   "id": "cd116548-aecd-4430-851d-25e04b9b6d60",
   "metadata": {},
   "source": [
    "#END STATEMENT\n"
   ]
  },
  {
   "cell_type": "code",
   "execution_count": 20,
   "id": "940ce959-6e72-4bba-ab1b-acb0c09e5d35",
   "metadata": {},
   "outputs": [
    {
     "name": "stdout",
     "output_type": "stream",
     "text": [
      "hello\n",
      "good morning\n"
     ]
    }
   ],
   "source": [
    "print('hello')\n",
    "print('good morning')"
   ]
  },
  {
   "cell_type": "code",
   "execution_count": 21,
   "id": "52551fa5-9aca-42af-9cbb-5bee3b971409",
   "metadata": {},
   "outputs": [
    {
     "name": "stdout",
     "output_type": "stream",
     "text": [
      "hello world good day\n"
     ]
    }
   ],
   "source": [
    "print('hello', end=' ')\n",
    "print('world good day')"
   ]
  },
  {
   "cell_type": "markdown",
   "id": "3f04971b-18d3-4f26-9fbd-b5c8408b63ba",
   "metadata": {},
   "source": [
    "#SEPARATOR"
   ]
  },
  {
   "cell_type": "code",
   "execution_count": 23,
   "id": "3c8503fd-229f-47d9-910a-04d1a4aa52de",
   "metadata": {},
   "outputs": [
    {
     "name": "stdout",
     "output_type": "stream",
     "text": [
      "hello-->hai-->how are you\n"
     ]
    }
   ],
   "source": [
    "print('hello', 'hai', 'how are you', sep='-->')"
   ]
  },
  {
   "cell_type": "code",
   "execution_count": 24,
   "id": "a8bb0e79-bb6b-435b-96ef-cbfc952f38c1",
   "metadata": {},
   "outputs": [
    {
     "name": "stdout",
     "output_type": "stream",
     "text": [
      "hello, I am python & who are u?\n"
     ]
    }
   ],
   "source": [
    "print('hello, I am python',  'who are u?', sep= ' & ')"
   ]
  },
  {
   "cell_type": "code",
   "execution_count": 25,
   "id": "4368c33f-69ec-4f62-a4e2-7d765fba5940",
   "metadata": {},
   "outputs": [
    {
     "name": "stdout",
     "output_type": "stream",
     "text": [
      "3 .\n"
     ]
    }
   ],
   "source": [
    "print(3,'.')"
   ]
  },
  {
   "cell_type": "code",
   "execution_count": 26,
   "id": "e554e6fb-fe97-461c-ba15-a67589119fa1",
   "metadata": {},
   "outputs": [
    {
     "name": "stdout",
     "output_type": "stream",
     "text": [
      "3.\n"
     ]
    }
   ],
   "source": [
    "print(3,'.',sep='')"
   ]
  },
  {
   "cell_type": "code",
   "execution_count": 27,
   "id": "d2ed4e14-8b54-44a2-9f50-81f6c8e6cf81",
   "metadata": {},
   "outputs": [
    {
     "name": "stdout",
     "output_type": "stream",
     "text": [
      "1 2 3.\n"
     ]
    }
   ],
   "source": [
    "print(1,2,end= ' ')\n",
    "print(3,'.', sep='')\n",
    "      "
   ]
  }
 ],
 "metadata": {
  "kernelspec": {
   "display_name": "Python 3 (ipykernel)",
   "language": "python",
   "name": "python3"
  },
  "language_info": {
   "codemirror_mode": {
    "name": "ipython",
    "version": 3
   },
   "file_extension": ".py",
   "mimetype": "text/x-python",
   "name": "python",
   "nbconvert_exporter": "python",
   "pygments_lexer": "ipython3",
   "version": "3.12.4"
  }
 },
 "nbformat": 4,
 "nbformat_minor": 5
}
